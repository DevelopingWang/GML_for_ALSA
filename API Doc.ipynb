{
 "cells": [
  {
   "cell_type": "markdown",
   "metadata": {},
   "source": [
    "<font color=black size=5 face=雅黑>**GML(Gradual Machine Learning)框架接口文档说明**</font>\n"
   ]
  },
  {
   "cell_type": "markdown",
   "metadata": {},
   "source": [
    "用户在使用GML框架进行推理时，需要提供以下四个部分的数据：             \n",
    "1. 变量          \n",
    "2. 特征         \n",
    "3. 边         \n",
    "4. 简单实例       \n",
    "     "
   ]
  },
  {
   "cell_type": "markdown",
   "metadata": {},
   "source": [
    "<font color=black size=4 face=雅黑>**其主要数据结构定义如下:**</font>"
   ]
  },
  {
   "cell_type": "code",
   "execution_count": null,
   "metadata": {},
   "outputs": [],
   "source": [
    "#1.变量(variables)数据结构定义\n",
    "variables=list() #元素类型为dict:variable\n",
    "variable =\n",
    "{\n",
    "    #由用户提供的属性\n",
    "    'var_id':1,                  #变量ID   int类型，从0开始\n",
    "    'is_easy': False,            #是否是Easy\n",
    "    'is_evidence':True,          #是否是证据变量\n",
    "    'true_label':1,              #真实标签，用于后续计算精度等\n",
    "    'label': 1，                 #推理出的标签:0为negative,1为为positive, -1为不知道\n",
    "    'feature_set':               #此变量拥有的所有feature\n",
    "    { feature_id1: [theta1,feature_value1],\n",
    "      feature_id2: [theta2,feature_value2],\n",
    "      ...\n",
    "    },\n",
    "    #代码运行期间可能会自动生成的属性\n",
    "    'probability':0.99，          #推理出的概率\n",
    "    'evidential_support':0.3,     #evidential_support\n",
    "    'entropy': 0.4,               #熵\n",
    "    'approximate_weight':0.3,     #近似权重\n",
    "     ...\n",
    "}"
   ]
  },
  {
   "cell_type": "code",
   "execution_count": null,
   "metadata": {},
   "outputs": [],
   "source": [
    "#2.特征(feature)数据结构定义\n",
    "features  = list()      #元素类型为dict:feature\n",
    "feature =\n",
    "{\n",
    "    #需要用户提供的属性\n",
    "    'feature_id':1,                                       #特征id, int类型，从0开始\n",
    "    'feature_type': unary_feature/binary_feature,         #区分此特征是单因子特征还是双因子特征，目前支持unary_feature和binary_feature两种\n",
    "    'feature_name': good,                                 #特征名，如果是token类型，就是token具体的词，如果是其他类型的特征，就是特征的具体类型\n",
    "    'weight':                                             #拥有此特征的所有变量的集合\n",
    "    {\n",
    "      var_id1:        [weight_value1,feature_value1],     #unary_feature\n",
    "     (varid3,varid4): [weight_value2,feature_value2],     #binary_feature\n",
    "      ...\n",
    "    }\n",
    "    #代码运行期间可能会自动生成的属性\n",
    "    'tau':0,\n",
    "    'alpha':0,\n",
    "    'regerssion'： object,\n",
    "    ...\n",
    "}\n"
   ]
  },
  {
   "cell_type": "code",
   "execution_count": null,
   "metadata": {},
   "outputs": [],
   "source": [
    "#3. 简单实例(Easy)数据结构定义 用户也可以直接在variables标明Easy而不提供此文件\n",
    "easys = list() #元素类型为dict:easy\n",
    "easy  = \n",
    "{\n",
    "    'var_id': 0,\n",
    "    'label':  1\n",
    "}"
   ]
  },
  {
   "cell_type": "markdown",
   "metadata": {},
   "source": [
    "\n",
    "<font color=black size=4 face=雅黑>**在准备好所需数据之后，主要的调用流程如下：**</font>"
   ]
  },
  {
   "cell_type": "code",
   "execution_count": null,
   "metadata": {},
   "outputs": [],
   "source": [
    "from gml import GML\n",
    "from easy_instance_labeling import  EasyInstanceLabeling\n",
    "from evidential_support import EvidentialSupport\n",
    "from evidence_select import EvidenceSelect\n",
    "\n",
    "el = EasyInstanceLabeling(variables,features,easys)\n",
    "el.label_easy_by_file()\n",
    "graph = GML(variables, features, es_method = 'interval', ev_method = 'interval', top_m = 2000, top_k=10, update_proportion=0.01,balance = False)\n",
    "graph.inference()            #因子图推理\n",
    "graph.score()                #获取推理结果"
   ]
  },
  {
   "cell_type": "markdown",
   "metadata": {},
   "source": [
    "<font color=black size=4 face=雅黑>**目前gml模块中主要的类和函数的详细功能设计如下：**</font>"
   ]
  },
  {
   "cell_type": "code",
   "execution_count": null,
   "metadata": {},
   "outputs": [],
   "source": [
    "class FeatureExtract:     \n",
    "'''特征提取类，目前为空，主要用于提供variables,features,edges这些数据'''"
   ]
  },
  {
   "cell_type": "code",
   "execution_count": null,
   "metadata": {},
   "outputs": [],
   "source": [
    "class EasyInstanceLabeling:\n",
    "'''简单实例标注类，目前为空，主要用于提供easy的数据'''"
   ]
  },
  {
   "cell_type": "code",
   "execution_count": null,
   "metadata": {},
   "outputs": [],
   "source": [
    "class General:\n",
    "'''存放一些通用的全局函数，放在一起主要是为了规范'''\n",
    "    def open_p(weight,openpweight)\n",
    "    '''根据给定权重计算近似概率\n",
    "       input: weight --权重\n",
    "       output: approximate probability --隐变量的近似概率\n",
    "    '''\n",
    "\n",
    "    def entropy(probability)\n",
    "    '''根据概率计算熵\n",
    "       input:  probability --隐变量的匹配概率\n",
    "       output: entropy     --隐变量的熵\n",
    "    '''"
   ]
  },
  {
   "cell_type": "code",
   "execution_count": null,
   "metadata": {},
   "outputs": [],
   "source": [
    "class Regression:\n",
    "'''线性回归相关的类，与其他部分独立'''\n",
    "    def __init__(self,each_feature_easys,n_job):\n",
    "    '''用于传入数据，初始化'''\n",
    "\n",
    "    def perform(self)\n",
    "    '''执行线性回归'''\n",
    "\n",
    "    def predict_confidence(self, x0)\n",
    "    '''用于计算theta，并正则化，目前暂时没用'''\n",
    "\n",
    "    def append(self, appendx, appendy)\n",
    "    '''增加线性回归的数据'''\n",
    "\n",
    "    def disable(self, delx, dely)\n",
    "    '''减少线性回归的数据'''"
   ]
  },
  {
   "cell_type": "code",
   "execution_count": null,
   "metadata": {},
   "outputs": [],
   "source": [
    "class GML:\n",
    "    '''GML主要的类\n",
    "    目前主要的参数如下，此部分要随需求变动：\n",
    "    tau_and_regression_bound = 10\n",
    "    delta = 2\n",
    "    effective_training_count_threshold = 2\n",
    "    update_cache = 10\n",
    "    update_proportion_cache = 1e-2\n",
    "    NOT_NONE_VALUE = 1e-8\n",
    "    n_job = 10\n",
    "    openpweight = 100\n",
    "    '''\n",
    "\n",
    "    def __init__(self, \n",
    "                 variables,\n",
    "                 features,\n",
    "                 edges,\n",
    "                 easys,\n",
    "                 top_m = 2000,                    \n",
    "                 top_k = 10,\n",
    "                 update_cache = 10\n",
    "                 )\n",
    "    '''用于初始化因子图，主要是传入数据和设置参数'''\n",
    "\n",
    "    def create_data_matrix(self)\n",
    "    '''创建稀疏矩阵存储所有variable的所有featureValue，用于后续矩阵化计算Evidential Support\n",
    "    intput：直接读取GML实例化对象的内容，不需要传参数\n",
    "    output: 填充GMLL实例化对象的data_matrix\n",
    "    '''\n",
    "\n",
    "    def easy_instance_labeling(self):\n",
    "    '''根据提供的easy列表标出变量中的Easy'''\n",
    "    \n",
    "    def separate_variables(self):\n",
    "    '''将variables分成证据变量和隐变量\n",
    "    修改GML实例对象的这两个属性：observed_variables_id，poential_variables_id\n",
    "    '''\n",
    "\n",
    "    def separate_feature_value(self):\n",
    "    '''划分开每个feature的easy feature和hard feature'''\n",
    "\n",
    "    def init_evidence_interval(self,begin,end):\n",
    "    '''初始化证据区间\n",
    "    input: begin-区间的起点   end-区间的终点\n",
    "    output：一个包含evidence_interval_count个区间的set\n",
    "    '''\n",
    "    def influence_modeling(self):\n",
    "    '''对所有feature进行线性回归,把回归得到的所有结果存回feature, 键为'regression'''\n",
    "\n",
    "    def evidential_support(self):\n",
    "    '''计算所有隐变量的Evidential Support'''\n",
    "\n",
    "    def select_top_m_by_es(self,m):\n",
    "    '''根据计算出的Evidential Support(从大到小)选前m个隐变量\n",
    "    input： m----需要选出的隐变量的个数\n",
    "    output： 一个包含m个变量id的列表\n",
    "    '''\n",
    "\n",
    "    def approximate_probability_estimation(self,var_id):\n",
    "    '''对给定的隐变量计算近似概率:float(1) / float(1 + math.exp( - weight))\n",
    "    input：var_id可能是一个id，也可能是一个id列表\n",
    "    output：直接修改variables中对应变量的approximate_probability属性\n",
    "    '''\n",
    "    \n",
    "    def select_top_k_by_entropy(self,var_id_list,k):\n",
    "    '''计算熵，选出top_k个熵小的隐变量\n",
    "    input:\n",
    "        1.var_id_list: 选择范围\n",
    "        2.k:需要选出的隐变量的个数\n",
    "    output： 一个包含k个id的列表\n",
    "    '''\n",
    "\n",
    "    def select_evidence(self,var_id):\n",
    "    '''\n",
    "    为指定的隐变量挑一定数量的证据变量,同时确定边\n",
    "    input：var_id -- 隐变量id\n",
    "    output:：\n",
    "        evidence_set --证据变量的id集合\n",
    "        edges -- 边的集合\n",
    "    '''\n",
    "\n",
    "    def construct_subgraph(self,var_id):\n",
    "    '''在选出topk个隐变量之后建立子图\n",
    "    input：一个隐变量的id\n",
    "    output：按照numbskull的要求因子图,返回weight, variable, factor, fmap, domain_mask, edges\n",
    "    '''\n",
    "\n",
    "    def inference_subgraph(self,var_id):\n",
    "    '''推理子图\n",
    "    input: 一个隐变量的id\n",
    "    output：推理出的此隐变量的概率，此概率需写回variables\n",
    "    '''\n",
    "\n",
    "    def label(self,var_id_list):\n",
    "    '''比较k个隐变量的熵，选熵最小的一个打上标签\n",
    "    input：k个id的列表，每个变量对应的概率从variables中拿\n",
    "    output：无输出，直接更新vairables中的label和entropy，更新observed_variables_id和poential_variables_id\n",
    "    '''\n",
    "\n",
    "    def init(self):\n",
    "    '''处理此对象推理所需的全部准备工作,目前主要进行以下调用\n",
    "        self.easy_instance_labeling()\n",
    "        self.separate_variables()\n",
    "        self.separate_feature_value()\n",
    "        self.create_data_matrix()\n",
    "    '''\n",
    "\n",
    "    def inference(self):\n",
    "    '''因子图推理的主流程'''\n",
    "\n",
    "    def results(self):\n",
    "    '''计算所有相关结果，precison,recall等，目前暂时先返回所有变量的标签'''"
   ]
  }
 ],
 "metadata": {
  "kernelspec": {
   "display_name": "Python 3",
   "language": "python",
   "name": "python3"
  },
  "language_info": {
   "codemirror_mode": {
    "name": "ipython",
    "version": 3
   },
   "file_extension": ".py",
   "mimetype": "text/x-python",
   "name": "python",
   "nbconvert_exporter": "python",
   "pygments_lexer": "ipython3",
   "version": "3.7.4"
  },
  "pycharm": {
   "stem_cell": {
    "cell_type": "raw",
    "source": [],
    "metadata": {
     "collapsed": false
    }
   }
  }
 },
 "nbformat": 4,
 "nbformat_minor": 4
}